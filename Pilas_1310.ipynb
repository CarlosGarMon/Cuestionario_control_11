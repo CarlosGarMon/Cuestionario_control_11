{
  "nbformat": 4,
  "nbformat_minor": 0,
  "metadata": {
    "colab": {
      "name": "Pilas_1310.ipynb",
      "provenance": [],
      "collapsed_sections": [],
      "authorship_tag": "ABX9TyOGgICj+vWHwxvN5FPCZ5W9",
      "include_colab_link": true
    },
    "kernelspec": {
      "name": "python3",
      "display_name": "Python 3"
    },
    "language_info": {
      "name": "python"
    }
  },
  "cells": [
    {
      "cell_type": "markdown",
      "metadata": {
        "id": "view-in-github",
        "colab_type": "text"
      },
      "source": [
        "<a href=\"https://colab.research.google.com/github/CarlosGarMon/Cuestionario_control_11/blob/main/Pilas_1310.ipynb\" target=\"_parent\"><img src=\"https://colab.research.google.com/assets/colab-badge.svg\" alt=\"Open In Colab\"/></a>"
      ]
    },
    {
      "cell_type": "code",
      "metadata": {
        "id": "hrbcyAuMMyYS"
      },
      "source": [
        "class StackADT: \n",
        "    def __init__( self ):\n",
        "        self.__data = list()\n",
        "    \n",
        "    #Regresa true si la pila está vacía\n",
        "    def is_empty( self ):\n",
        "        return len( self.__data ) == 0\n",
        "\n",
        "    def get_lenght( self ):\n",
        "        return len( self.__data )\n",
        "\n",
        "    def pop( self ):\n",
        "        if self.is_empty():\n",
        "            print(\"Pila vacía, nada que sacar\")\n",
        "        else:\n",
        "            return self.__data.pop()\n",
        "\n",
        "    def peek( self ):\n",
        "        if self.is_empty():\n",
        "            print(\"Pila vacía, nada que sacar\")\n",
        "        else:\n",
        "            return self.__data[ -1 ]\n",
        "    \n",
        "    def push( self, value, ):\n",
        "        self.__data.append( value )\n",
        "\n",
        "    def to_string( self ):\n",
        "        for item in self.__data[ : :-1]:\n",
        "            print(f\"| {item} | \")\n"
      ],
      "execution_count": 6,
      "outputs": []
    },
    {
      "cell_type": "code",
      "metadata": {
        "id": "52Dkqlo9QmMb"
      },
      "source": [
        "pila = StackADT()\n",
        "print(\"Está vacía? R = \", pila.is_empty() )\n",
        "print(\"# elementos: \", pila.get_lenght())\n",
        "pila.push(10)\n",
        "print(\"Está vacía? R = \", pila.is_empty() )\n",
        "print(\"# elementos: \", pila.get_lenght())\n",
        "pila.push(20)\n",
        "pila.push(30)\n",
        "pila.push(40)\n",
        "pila.to_string()\n",
        "print( pila.pop() )\n",
        "print( pila.peek() )\n",
        "pila.to_string()"
      ],
      "execution_count": null,
      "outputs": []
    },
    {
      "cell_type": "markdown",
      "metadata": {
        "id": "wi83Y1ngyiVx"
      },
      "source": [
        "#Aplicación de pilas. Balanceo de llaves en programación.\n",
        "1.- Hacer unprograma que impemente el algoritmo de pila vacía para verificar balanceo de llaves ( '{' y '}') y balanceo de parénteisis ( '(' y ')') para codigo de programacion C y, C++ y Java\n",
        "\n",
        "Tiene que detener el análisis cuando se detcte que los parecentesis o llaves estan desbalanceados\n",
        "\n",
        "Idealmente (No obligatorio) encapsular esta lógica en una clase (ADT) de la POO"
      ]
    },
    {
      "cell_type": "code",
      "metadata": {
        "id": "gtQ3tPalzNY3"
      },
      "source": [
        "!cat prog.txt"
      ],
      "execution_count": null,
      "outputs": []
    },
    {
      "cell_type": "code",
      "metadata": {
        "colab": {
          "base_uri": "https://localhost:8080/"
        },
        "id": "v13hoIAVz1YF",
        "outputId": "f2cfec54-2971-417d-bda5-7c6e547b5af1"
      },
      "source": [
        "entrada = open('prog.txt', 'rt')\n",
        "codigo = entrada.read()\n",
        "#print( codigo )\n",
        "pilaControl = StackADT()\n",
        "pilaControl.push(\"#\") # Caracter de pila vacía \n",
        "\n",
        "for letra in codigo: \n",
        "    #print(f\"--> { letra } <--\")\n",
        "    if letra == '{': # Regla 1\n",
        "        pilaControl.push(\"{\")\n",
        "    elif letra == '}': # Regla 2\n",
        "        basura = pilaControl.pop() # Se usa una variable basura pues pop nos regresa el elemento a sacar\n",
        "    else:\n",
        "        pass # Si el caracter no es \"{\" o \"}\"\n",
        "\n",
        "# NOTA: Este código aún no contempla desbalanceo de más llaves de cierre\n",
        "if pilaControl.peek() == '#':\n",
        "    print(\"El código proporcionado está correctamente balanceado\")\n",
        "else:\n",
        "    print(\"El código no está balanceado en llaves { y }\")"
      ],
      "execution_count": 20,
      "outputs": [
        {
          "output_type": "stream",
          "name": "stdout",
          "text": [
            "El código proporcionado está correctamente balanceado\n"
          ]
        }
      ]
    },
    {
      "cell_type": "markdown",
      "metadata": {
        "id": "zzSwHvfH7LEJ"
      },
      "source": [
        "#Aplicación Pilas\n",
        "##Estrategia de diseño de algoritmos BACKTRACKING\n"
      ]
    }
  ]
}